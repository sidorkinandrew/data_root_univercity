{
  "nbformat": 4,
  "nbformat_minor": 0,
  "metadata": {
    "colab": {
      "name": "lbs_lab.ipynb",
      "provenance": [],
      "collapsed_sections": []
    },
    "kernelspec": {
      "display_name": "Python 3",
      "language": "python",
      "name": "python3"
    },
    "language_info": {
      "codemirror_mode": {
        "name": "ipython",
        "version": 3
      },
      "file_extension": ".py",
      "mimetype": "text/x-python",
      "name": "python",
      "nbconvert_exporter": "python",
      "pygments_lexer": "ipython3",
      "version": "3.7.5"
    }
  },
  "cells": [
    {
      "cell_type": "markdown",
      "metadata": {
        "colab_type": "text",
        "id": "g0b3IEgTsdcD"
      },
      "source": [
        "# Libraries: numpy, scipy, pandas"
      ]
    },
    {
      "cell_type": "code",
      "metadata": {
        "colab_type": "code",
        "id": "Be4_dnVpsdcF",
        "colab": {}
      },
      "source": [
        "import numpy as np\n",
        "import matplotlib.pyplot as plt\n",
        "import pandas as pd"
      ],
      "execution_count": 0,
      "outputs": []
    },
    {
      "cell_type": "markdown",
      "metadata": {
        "id": "4mhINbvrU2Er",
        "colab_type": "text"
      },
      "source": [
        "#### 1. Implement function which creates a $nxm$ matrix and fills it with a checkerboard pattern:\n",
        "<div style=\"text-align: right\">1 point</div>"
      ]
    },
    {
      "cell_type": "code",
      "metadata": {
        "id": "-MQoFwpZU2Er",
        "colab_type": "code",
        "colab": {}
      },
      "source": [
        "def checkerboard(n, m):\n",
        "    \"\"\"\n",
        "    :n: int\n",
        "    :m: int\n",
        "    :return: numpy.ndarray\n",
        "    \"\"\"\n",
        "    m_new = m if m%2 else m+1\n",
        "    result = np.zeros((n, m_new), dtype=np.int).ravel()\n",
        "    result[1::2] = 1\n",
        "    result = np.reshape(result, (n, m_new))\n",
        "    if not m%2:\n",
        "        result = np.delete(result, m_new-1, axis=1)\n",
        "    return result"
      ],
      "execution_count": 0,
      "outputs": []
    },
    {
      "cell_type": "code",
      "metadata": {
        "id": "9XaAXvpzU2Et",
        "colab_type": "code",
        "outputId": "cece0d0f-511c-4dab-fa30-7919d1071b41",
        "colab": {
          "base_uri": "https://localhost:8080/",
          "height": 87
        }
      },
      "source": [
        "print('Checkerboard pattern: \\n', checkerboard(3, 3))"
      ],
      "execution_count": 3,
      "outputs": [
        {
          "output_type": "stream",
          "text": [
            "Checkerboard pattern: \n",
            " [[0 1 0]\n",
            " [1 0 1]\n",
            " [0 1 0]]\n"
          ],
          "name": "stdout"
        }
      ]
    },
    {
      "cell_type": "markdown",
      "metadata": {
        "id": "j_MwSmXrU2Ew",
        "colab_type": "text"
      },
      "source": [
        "Expected Output: \n",
        "<table>\n",
        "  <tr>\n",
        "    <td></td>\n",
        "    <td> [[0 1 0]\n",
        "  <tr>\n",
        "    <td>Checkerboard pattern: </td>\n",
        "    <td> [1 0 1]\n",
        "  <tr>\n",
        "    <td></td>\n",
        "    <td> [0 1 0]]"
      ]
    },
    {
      "cell_type": "markdown",
      "metadata": {
        "id": "Lt2j8XoRU2Ew",
        "colab_type": "text"
      },
      "source": [
        "#### 2. Implement function which solves system of linear equations:\n",
        "<div style=\"text-align: right\">1 point</div>"
      ]
    },
    {
      "cell_type": "markdown",
      "metadata": {
        "id": "2XsU0NGeEYKI",
        "colab_type": "text"
      },
      "source": [
        ""
      ]
    },
    {
      "cell_type": "code",
      "metadata": {
        "id": "qVo0-oYzU2Ex",
        "colab_type": "code",
        "colab": {}
      },
      "source": [
        "def solve_system(a, b):\n",
        "    \"\"\"\n",
        "    :a: list[list]\n",
        "    :b: list\n",
        "    :return: numpy.ndarray\n",
        "    \"\"\"\n",
        "    return np.linalg.solve(a, b)\n",
        "    "
      ],
      "execution_count": 0,
      "outputs": []
    },
    {
      "cell_type": "code",
      "metadata": {
        "id": "UGF7uoBqU2Ez",
        "colab_type": "code",
        "colab": {
          "base_uri": "https://localhost:8080/",
          "height": 34
        },
        "outputId": "d680dfbc-7c66-4053-b726-32d8a40f5870"
      },
      "source": [
        "print('Result: ', solve_system([[3,1], [1,2]], [9,8]))"
      ],
      "execution_count": 5,
      "outputs": [
        {
          "output_type": "stream",
          "text": [
            "Result:  [2. 3.]\n"
          ],
          "name": "stdout"
        }
      ]
    },
    {
      "cell_type": "markdown",
      "metadata": {
        "id": "d-84AmKXU2E1",
        "colab_type": "text"
      },
      "source": [
        "Expected Output: \n",
        "<table>\n",
        "  <tr>\n",
        "    <td>Result:</td>\n",
        "    <td> [2. 3.] </td> \n",
        "  </tr>"
      ]
    },
    {
      "cell_type": "markdown",
      "metadata": {
        "id": "5qtHOnyAU2E1",
        "colab_type": "text"
      },
      "source": [
        "#### 3. Implement function which multiplies 2 matrixes and returns the max value of each column of the resulting matrix:\n",
        "<div style=\"text-align: right\">1 point</div>"
      ]
    },
    {
      "cell_type": "code",
      "metadata": {
        "id": "lPv-Iv5QU2E1",
        "colab_type": "code",
        "colab": {}
      },
      "source": [
        "def mult(m1, m2):\n",
        "    \"\"\"\n",
        "    :m1: numpy.ndarray\n",
        "    :m2: numpy.ndarray\n",
        "    :return: numpy.ndarray\n",
        "    \"\"\"\n",
        "    return np.amax(np.matmul(m1, m2), axis=0)"
      ],
      "execution_count": 0,
      "outputs": []
    },
    {
      "cell_type": "code",
      "metadata": {
        "id": "Dq0rYWJlU2E4",
        "colab_type": "code",
        "colab": {
          "base_uri": "https://localhost:8080/",
          "height": 34
        },
        "outputId": "ce27e0fc-fb0d-4318-8554-172ffe1f3752"
      },
      "source": [
        "p = np.array([[1, 9], [0, 1]])\n",
        "q = np.array([[1, 2], [3, 9]])\n",
        "print('Result: ', mult(p, q))"
      ],
      "execution_count": 11,
      "outputs": [
        {
          "output_type": "stream",
          "text": [
            "Result:  [28 83]\n"
          ],
          "name": "stdout"
        }
      ]
    },
    {
      "cell_type": "markdown",
      "metadata": {
        "id": "WvBCpjmEU2E6",
        "colab_type": "text"
      },
      "source": [
        "Expected Output: \n",
        "<table>\n",
        "  <tr>\n",
        "    <td>Result:</td>\n",
        "    <td> [28 83] </td> \n",
        "  </tr>"
      ]
    },
    {
      "cell_type": "markdown",
      "metadata": {
        "colab_type": "text",
        "id": "cXP-v9zRjPM5"
      },
      "source": [
        "#### 4. Implement function add_mean_and_calc_det(matrix), which adds to each element in the matrix row the mean of this row and returns the determinant of the resulting matrix.\n",
        "<div style=\"text-align: right\">1 point</div>"
      ]
    },
    {
      "cell_type": "code",
      "metadata": {
        "colab_type": "code",
        "id": "4_Hz6gEPjPM5",
        "colab": {}
      },
      "source": [
        "def add_mean_and_calc_det(matrix):\n",
        "    \"\"\"\n",
        "    :matrix: numpy.ndarray[list[list[int]]]\n",
        "    :return: numpy.float64\n",
        "    \"\"\"\n",
        "    return np.linalg.det(matrix + np.mean(matrix, axis=0))"
      ],
      "execution_count": 0,
      "outputs": []
    },
    {
      "cell_type": "code",
      "metadata": {
        "colab_type": "code",
        "id": "zZO__kp_sdcN",
        "colab": {
          "base_uri": "https://localhost:8080/",
          "height": 34
        },
        "outputId": "c6a531b2-3353-473c-9292-38774a740299"
      },
      "source": [
        "print('Result:', add_mean_and_calc_det(np.array([[5, 3, 4], [7, 9, 8], [6, 7, 8]])))"
      ],
      "execution_count": 20,
      "outputs": [
        {
          "output_type": "stream",
          "text": [
            "Result: 72.0\n"
          ],
          "name": "stdout"
        }
      ]
    },
    {
      "cell_type": "markdown",
      "metadata": {
        "colab_type": "text",
        "id": "xmzo4PEssdcP"
      },
      "source": [
        "Expected Output: \n",
        "<table>\n",
        "  <tr>\n",
        "    <td>Result:</td>\n",
        "    <td> 72.0 </td> \n",
        "  </tr>"
      ]
    },
    {
      "cell_type": "markdown",
      "metadata": {
        "colab_type": "text",
        "id": "FUAr1WPCjPM8"
      },
      "source": [
        "#### 5. Implement function nearest_to_scalar(matrix, n), which returns the closest to n number in the matrix.\n",
        "<div style=\"text-align: right\">1 point</div>"
      ]
    },
    {
      "cell_type": "code",
      "metadata": {
        "colab_type": "code",
        "id": "VLS3S8g-jPM9",
        "colab": {}
      },
      "source": [
        "import numpy as np\n",
        "def nearest_to_scalar(matrix, n):\n",
        "    \"\"\"\n",
        "    :param matrix: numpy.ndarray[list[list[int]]]\n",
        "    :param n: int\n",
        "    :return: int  \n",
        "    \"\"\"\n",
        "    return matrix.ravel()[np.abs(matrix - n).argmin()]"
      ],
      "execution_count": 0,
      "outputs": []
    },
    {
      "cell_type": "code",
      "metadata": {
        "colab_type": "code",
        "id": "OKSqsu9FsdcS",
        "colab": {
          "base_uri": "https://localhost:8080/",
          "height": 34
        },
        "outputId": "0eb82f89-042f-420d-a03f-efb959c63de0"
      },
      "source": [
        "print('Nearest:', nearest_to_scalar(np.array([[5, 3, 4], [7, 9, 8], [6, 7, 8]]), 11))"
      ],
      "execution_count": 35,
      "outputs": [
        {
          "output_type": "stream",
          "text": [
            "Nearest: 9\n"
          ],
          "name": "stdout"
        }
      ]
    },
    {
      "cell_type": "markdown",
      "metadata": {
        "colab_type": "text",
        "id": "cSW-eweGsdcV"
      },
      "source": [
        "Expected Output:\n",
        "<table>\n",
        "  <tr>\n",
        "    <td>Nearest:</td>\n",
        "    <td> 9 </td> \n",
        "  </tr>"
      ]
    },
    {
      "cell_type": "markdown",
      "metadata": {
        "colab_type": "text",
        "id": "0z5-m5v_jPM_"
      },
      "source": [
        "#### 6. Implement function svd_ranks(Z) which performs SVD of given matrix and returns a list of ranks of matrices U, S and V.\n",
        "<div style=\"text-align: right\">1 point</div>"
      ]
    },
    {
      "cell_type": "code",
      "metadata": {
        "colab_type": "code",
        "id": "8m-SG2hJjPNA",
        "colab": {}
      },
      "source": [
        "def svd_ranks(Z): \n",
        "    \"\"\"\n",
        "    :param Z: numpy.ndarray[list[list[int]]]\n",
        "    :return: list  \n",
        "    \"\"\"\n",
        "    #return np.linalg.matrix_rank(Z)\n",
        "    # https://keisan.casio.com/exec/system/15076953160460\n",
        "    u, s, v = np.linalg.svd(Z, full_matrices=True)\n",
        "    ur, sr, vr = np.linalg.matrix_rank(u), np.linalg.matrix_rank(s), np.linalg.matrix_rank(v)\n",
        "    #return [np.sum(u > 1e-8), np.sum(s > 1e-8), np.sum(v > 1e-8)]\n",
        "    #return [low_rank_k(u, s, v, ur), low_rank_k(u, s, v, sr), low_rank_k(u, s, v, vr)]\n",
        "    #return [np.linalg.matrix_rank(u), np.linalg.matrix_rank(s), np.linalg.matrix_rank(v)]\n",
        "#    print (u)\n",
        "#    print (s)\n",
        "#    print (v)\n",
        "    return [np.linalg.matrix_rank(u), np.sum(s > 1e-8), np.linalg.matrix_rank(v)]"
      ],
      "execution_count": 0,
      "outputs": []
    },
    {
      "cell_type": "code",
      "metadata": {
        "colab_type": "code",
        "id": "UGrS-YK7sdcY",
        "colab": {
          "base_uri": "https://localhost:8080/",
          "height": 34
        },
        "outputId": "039107c6-bd78-41f8-e0aa-7d49f6a46f98"
      },
      "source": [
        "print('Svd ranks:', svd_ranks(np.arange(9).reshape((3, 3))))"
      ],
      "execution_count": 87,
      "outputs": [
        {
          "output_type": "stream",
          "text": [
            "Svd ranks: [3, 2, 3]\n"
          ],
          "name": "stdout"
        }
      ]
    },
    {
      "cell_type": "markdown",
      "metadata": {
        "colab_type": "text",
        "id": "9RGRmS-Tsdcb"
      },
      "source": [
        "Expected Output: \n",
        "<table>\n",
        "  <tr>\n",
        "    <td>Svd ranks:</td>\n",
        "    <td> [3, 2, 3] </td> \n",
        "  </tr>"
      ]
    },
    {
      "cell_type": "markdown",
      "metadata": {
        "id": "wUcCfHidU2FL",
        "colab_type": "text"
      },
      "source": [
        "#### 7. Implement function to sort a given complex array using the real part first, then the imaginary part:\n",
        "<div style=\"text-align: right\">1 point</div>"
      ]
    },
    {
      "cell_type": "code",
      "metadata": {
        "id": "CXn-vbO3U2FM",
        "colab_type": "code",
        "colab": {}
      },
      "source": [
        "def complex_sort(complex_nums):\n",
        "    \"\"\"\n",
        "    :complex_nums: list\n",
        "    :return: np.array  \n",
        "    \"\"\"\n",
        "    return np.sort_complex(complex_nums)"
      ],
      "execution_count": 0,
      "outputs": []
    },
    {
      "cell_type": "code",
      "metadata": {
        "id": "ouPf0cWtU2FO",
        "colab_type": "code",
        "colab": {
          "base_uri": "https://localhost:8080/",
          "height": 34
        },
        "outputId": "c694e8cb-52ed-4e55-e492-4de995457219"
      },
      "source": [
        "print('Result: ', complex_sort([1 + 2j, 3 - 1j, 3 - 2j, 4 - 3j, 3 + 5j]))"
      ],
      "execution_count": 89,
      "outputs": [
        {
          "output_type": "stream",
          "text": [
            "Result:  [1.+2.j 3.-2.j 3.-1.j 3.+5.j 4.-3.j]\n"
          ],
          "name": "stdout"
        }
      ]
    },
    {
      "cell_type": "markdown",
      "metadata": {
        "id": "D2phQxJwU2FQ",
        "colab_type": "text"
      },
      "source": [
        "Expected Output: \n",
        "<table>\n",
        "  <tr>\n",
        "    <td>Result:</td>\n",
        "    <td> [1.+2.j 3.-2.j 3.-1.j 3.+5.j 4.-3.j]"
      ]
    },
    {
      "cell_type": "markdown",
      "metadata": {
        "id": "k_20QH1iU2FQ",
        "colab_type": "text"
      },
      "source": [
        "#### 8. Implement a function that computes the Mandelbrot fractal:\n",
        "<div style=\"text-align: right\">4 points</div>"
      ]
    },
    {
      "cell_type": "code",
      "metadata": {
        "id": "hOemlEfAU2FR",
        "colab_type": "code",
        "colab": {}
      },
      "source": [
        "def compute_mandelbrot(n_max, threshold, nx, ny):\n",
        "    \"\"\"\n",
        "    :n_max: int\n",
        "    :threshold: float\n",
        "    :nx: int\n",
        "    :ny: int\n",
        "    :return: np.array  \n",
        "    \"\"\"\n",
        "    # A grid of c-values\n",
        "    x = np.linspace(-2, 1, nx)\n",
        "    y = np.linspace(-1.5, 1.5, ny)\n",
        "\n",
        "    c = x[:,np.newaxis] + 1j * y[np.newaxis,:]\n",
        "\n",
        "    # Mandelbrot iteration - https://scipy-lectures.org/intro/numpy/auto_examples/plot_mandelbrot.html\n",
        "    z = c\n",
        "    for j in range(n_max):\n",
        "        z = z**2 + c\n",
        "\n",
        "    mandelbrot_set = (abs(z) < threshold)\n",
        "\n",
        "    return mandelbrot_set"
      ],
      "execution_count": 0,
      "outputs": []
    },
    {
      "cell_type": "code",
      "metadata": {
        "id": "BReLUoL2U2FT",
        "colab_type": "code",
        "colab": {
          "base_uri": "https://localhost:8080/",
          "height": 339
        },
        "outputId": "f7543552-be92-4145-c81a-5c2dca80a951"
      },
      "source": [
        "mandelbrot_set = compute_mandelbrot(50, 50., 601, 401)\n",
        "plt.imshow(mandelbrot_set.T, extent=[-2, 1, -1.5, 1.5])\n",
        "print('Shape: ', mandelbrot_set.shape)"
      ],
      "execution_count": 91,
      "outputs": [
        {
          "output_type": "stream",
          "text": [
            "/usr/local/lib/python3.6/dist-packages/ipykernel_launcher.py:18: RuntimeWarning: overflow encountered in square\n",
            "/usr/local/lib/python3.6/dist-packages/ipykernel_launcher.py:18: RuntimeWarning: invalid value encountered in square\n",
            "/usr/local/lib/python3.6/dist-packages/ipykernel_launcher.py:20: RuntimeWarning: invalid value encountered in less\n"
          ],
          "name": "stderr"
        },
        {
          "output_type": "stream",
          "text": [
            "Shape:  (601, 401)\n"
          ],
          "name": "stdout"
        },
        {
          "output_type": "display_data",
          "data": {
            "image/png": "[encoded data removed]",
            "text/plain": [
              "<Figure size 432x288 with 1 Axes>"
            ]
          },
          "metadata": {
            "tags": [],
            "needs_background": "light"
          }
        }
      ]
    },
    {
      "cell_type": "markdown",
      "metadata": {
        "id": "RRNkiTcVU2FU",
        "colab_type": "text"
      },
      "source": [
        "Expected Output: \n",
        "<table>\n",
        "  <tr>\n",
        "    <td>Shape:</td>\n",
        "    <td> (601, 401)</td>\n",
        "<td><img src=\"http://157.230.116.154:1338/uploads/1a2ae116fb684ec5a1d75b199017a24b.png\"></td>"
      ]
    },
    {
      "cell_type": "markdown",
      "metadata": {
        "colab_type": "text",
        "id": "cV0BQjaGjPND"
      },
      "source": [
        "#### 9. Consider the following dictionary \"data\" and list \"labels\":"
      ]
    },
    {
      "cell_type": "code",
      "metadata": {
        "colab_type": "code",
        "id": "_C0MzBX8jPND",
        "colab": {}
      },
      "source": [
        "data = {'animal': ['cat', 'cat', 'dog', 'dog', 'cat', 'cat', 'dog', 'cat', 'dog', 'dog'],\n",
        "        'age': [2.5, 1, 0.5, np.nan, 5, 2, 3.5, np.nan, 7, 3],\n",
        "        'weight': [1, 3, 6, 8, 4, 3, 10, 2, 7, 3],\n",
        "        'priority': ['yes', 'yes', 'no', 'yes', 'no', 'no', 'no', 'yes', 'no', 'no']}\n",
        "\n",
        "labels = ['a', 'b', 'c', 'd', 'e', 'f', 'g', 'h', 'i', 'j']"
      ],
      "execution_count": 0,
      "outputs": []
    },
    {
      "cell_type": "markdown",
      "metadata": {
        "colab_type": "text",
        "id": "9erbHYY0jPNJ"
      },
      "source": [
        "**9.1 Implement function repl_nan(data, labels) which creates a dataframe from dictionary  \"data\" with indexes from the list \"labels\", replaces the values \"nan\" in the age field by the mean age depending on the animal's type and returns a new dataframe.**\n",
        "<div style=\"text-align: right\">1 point</div>"
      ]
    },
    {
      "cell_type": "code",
      "metadata": {
        "colab_type": "code",
        "id": "TTd04W3zjPNL",
        "colab": {}
      },
      "source": [
        "def repl_nan(data, labels):    \n",
        "    \"\"\"\n",
        "    :param data: dict\n",
        "    :param labels: list[str]\n",
        "    :return: pandas.core.frame.DataFrame \n",
        "    \"\"\"\n",
        "    df = pd.DataFrame(data, index=labels)\n",
        "    df[\"age\"] = df.groupby(\"animal\").transform(lambda x: x.fillna(x.mean()))\n",
        "    return df"
      ],
      "execution_count": 0,
      "outputs": []
    },
    {
      "cell_type": "code",
      "metadata": {
        "colab_type": "code",
        "id": "05k_bNK5sdck",
        "colab": {
          "base_uri": "https://localhost:8080/",
          "height": 343
        },
        "outputId": "bf659041-4867-448c-a1c8-608169bdf982"
      },
      "source": [
        "repl_nan(data, labels)"
      ],
      "execution_count": 99,
      "outputs": [
        {
          "output_type": "execute_result",
          "data": {
            "text/html": [
              "<div>\n",
              "<style scoped>\n",
              "    .dataframe tbody tr th:only-of-type {\n",
              "        vertical-align: middle;\n",
              "    }\n",
              "\n",
              "    .dataframe tbody tr th {\n",
              "        vertical-align: top;\n",
              "    }\n",
              "\n",
              "    .dataframe thead th {\n",
              "        text-align: right;\n",
              "    }\n",
              "</style>\n",
              "<table border=\"1\" class=\"dataframe\">\n",
              "  <thead>\n",
              "    <tr style=\"text-align: right;\">\n",
              "      <th></th>\n",
              "      <th>animal</th>\n",
              "      <th>age</th>\n",
              "      <th>weight</th>\n",
              "      <th>priority</th>\n",
              "    </tr>\n",
              "  </thead>\n",
              "  <tbody>\n",
              "    <tr>\n",
              "      <th>a</th>\n",
              "      <td>cat</td>\n",
              "      <td>2.500</td>\n",
              "      <td>1</td>\n",
              "      <td>yes</td>\n",
              "    </tr>\n",
              "    <tr>\n",
              "      <th>b</th>\n",
              "      <td>cat</td>\n",
              "      <td>1.000</td>\n",
              "      <td>3</td>\n",
              "      <td>yes</td>\n",
              "    </tr>\n",
              "    <tr>\n",
              "      <th>c</th>\n",
              "      <td>dog</td>\n",
              "      <td>0.500</td>\n",
              "      <td>6</td>\n",
              "      <td>no</td>\n",
              "    </tr>\n",
              "    <tr>\n",
              "      <th>d</th>\n",
              "      <td>dog</td>\n",
              "      <td>3.500</td>\n",
              "      <td>8</td>\n",
              "      <td>yes</td>\n",
              "    </tr>\n",
              "    <tr>\n",
              "      <th>e</th>\n",
              "      <td>cat</td>\n",
              "      <td>5.000</td>\n",
              "      <td>4</td>\n",
              "      <td>no</td>\n",
              "    </tr>\n",
              "    <tr>\n",
              "      <th>f</th>\n",
              "      <td>cat</td>\n",
              "      <td>2.000</td>\n",
              "      <td>3</td>\n",
              "      <td>no</td>\n",
              "    </tr>\n",
              "    <tr>\n",
              "      <th>g</th>\n",
              "      <td>dog</td>\n",
              "      <td>3.500</td>\n",
              "      <td>10</td>\n",
              "      <td>no</td>\n",
              "    </tr>\n",
              "    <tr>\n",
              "      <th>h</th>\n",
              "      <td>cat</td>\n",
              "      <td>2.625</td>\n",
              "      <td>2</td>\n",
              "      <td>yes</td>\n",
              "    </tr>\n",
              "    <tr>\n",
              "      <th>i</th>\n",
              "      <td>dog</td>\n",
              "      <td>7.000</td>\n",
              "      <td>7</td>\n",
              "      <td>no</td>\n",
              "    </tr>\n",
              "    <tr>\n",
              "      <th>j</th>\n",
              "      <td>dog</td>\n",
              "      <td>3.000</td>\n",
              "      <td>3</td>\n",
              "      <td>no</td>\n",
              "    </tr>\n",
              "  </tbody>\n",
              "</table>\n",
              "</div>"
            ],
            "text/plain": [
              "  animal    age  weight priority\n",
              "a    cat  2.500       1      yes\n",
              "b    cat  1.000       3      yes\n",
              "c    dog  0.500       6       no\n",
              "d    dog  3.500       8      yes\n",
              "e    cat  5.000       4       no\n",
              "f    cat  2.000       3       no\n",
              "g    dog  3.500      10       no\n",
              "h    cat  2.625       2      yes\n",
              "i    dog  7.000       7       no\n",
              "j    dog  3.000       3       no"
            ]
          },
          "metadata": {
            "tags": []
          },
          "execution_count": 99
        }
      ]
    },
    {
      "cell_type": "markdown",
      "metadata": {
        "colab_type": "text",
        "id": "5FUJ0jkssdcm"
      },
      "source": [
        "Expected Output: \n",
        "\n",
        "|index| animal   |   age |   weight | priority   |\n",
        "|----|----------|-------|----------|------------|\n",
        "| **a**  | cat      | 2.5   |        1 | yes        |\n",
        "| **b**  | cat      | 1     |        3 | yes        |\n",
        "| **c**  | dog      | 0.5   |        6 | no         |\n",
        "| **d**  | dog      | 3.5   |        8 | yes        |\n",
        "| **e**  | cat      | 5     |        4 | no         |\n",
        "| **f**  | cat      | 2     |        3 | no         |\n",
        "| **g**  | dog      | 3.5   |       10 | no         |\n",
        "| **h**  | cat      | 2.625 |        2 | yes        |\n",
        "| **i**  | dog      | 7     |        7 | no         |\n",
        "| **j**  | dog      | 3     |        3 | no         |"
      ]
    },
    {
      "cell_type": "markdown",
      "metadata": {
        "colab_type": "text",
        "id": "nnrks-vGjPNO"
      },
      "source": [
        "#### 9.2 Implement function weight_to_type(data, labels) which creates a dataframe from dictionary \"data\" with indexes from the list \"labels\", calculates average weight of each animal type and returns dictionary with these values, where keys are animal types and values are animal weights.\n",
        "<div style=\"text-align: right\">1 point</div>"
      ]
    },
    {
      "cell_type": "code",
      "metadata": {
        "colab_type": "code",
        "id": "v5fN_pdbjPNP",
        "colab": {}
      },
      "source": [
        "def weight_to_type(data, labels):    \n",
        "    \"\"\"\n",
        "    :param data: dict\n",
        "    :param labels: list[str]\n",
        "    :return: dict\n",
        "    \"\"\"\n",
        "    df = pd.DataFrame(data, index=labels)\n",
        "    return df.groupby(\"animal\").mean().weight.to_dict()"
      ],
      "execution_count": 0,
      "outputs": []
    },
    {
      "cell_type": "code",
      "metadata": {
        "colab_type": "code",
        "id": "SaHRr_bAsdct",
        "colab": {
          "base_uri": "https://localhost:8080/",
          "height": 34
        },
        "outputId": "b451a3d3-0962-456c-b796-6f68db377a83"
      },
      "source": [
        "print('weight_to_type', weight_to_type(data, labels))"
      ],
      "execution_count": 108,
      "outputs": [
        {
          "output_type": "stream",
          "text": [
            "weight_to_type {'cat': 2.6, 'dog': 6.8}\n"
          ],
          "name": "stdout"
        }
      ]
    },
    {
      "cell_type": "markdown",
      "metadata": {
        "colab_type": "text",
        "id": "NBfp6yiEsdcv"
      },
      "source": [
        "Expected Output: \n",
        "<table>\n",
        "  <tr>\n",
        "    <td>weight_to_type:</td>\n",
        "    <td> {'cat': 2.6, 'dog': 6.8} </td> \n",
        "  </tr>"
      ]
    },
    {
      "cell_type": "markdown",
      "metadata": {
        "colab_type": "text",
        "id": "aMRFy0acjPNS"
      },
      "source": [
        "#### 9.3  Implement function kittens(data, labels) which creates a dataframe from dictionary \"data\" with indexes from the list \"labels\" and returns dataframe with data about cats with age < 3.\n",
        "<div style=\"text-align: right\">1 point</div>"
      ]
    },
    {
      "cell_type": "code",
      "metadata": {
        "colab_type": "code",
        "id": "iUdq_fcdjPNU",
        "colab": {}
      },
      "source": [
        "def kittens(data, labels):    \n",
        "    \"\"\"\n",
        "    :param data: dict\n",
        "    :param labels: list[str]\n",
        "    :return: pandas.core.frame.DataFrame\n",
        "    \"\"\"\n",
        "    df = pd.DataFrame(data, index=labels)\n",
        "    return df[(df[\"animal\"] == \"cat\") & (df[\"age\"] < 3)]"
      ],
      "execution_count": 0,
      "outputs": []
    },
    {
      "cell_type": "code",
      "metadata": {
        "colab_type": "code",
        "id": "yM0tVIKJsdcx",
        "colab": {
          "base_uri": "https://localhost:8080/",
          "height": 136
        },
        "outputId": "d954075b-e2ba-4fa2-f8bc-c848a5f7b680"
      },
      "source": [
        "kittens(data, labels)"
      ],
      "execution_count": 115,
      "outputs": [
        {
          "output_type": "execute_result",
          "data": {
            "text/html": [
              "<div>\n",
              "<style scoped>\n",
              "    .dataframe tbody tr th:only-of-type {\n",
              "        vertical-align: middle;\n",
              "    }\n",
              "\n",
              "    .dataframe tbody tr th {\n",
              "        vertical-align: top;\n",
              "    }\n",
              "\n",
              "    .dataframe thead th {\n",
              "        text-align: right;\n",
              "    }\n",
              "</style>\n",
              "<table border=\"1\" class=\"dataframe\">\n",
              "  <thead>\n",
              "    <tr style=\"text-align: right;\">\n",
              "      <th></th>\n",
              "      <th>animal</th>\n",
              "      <th>age</th>\n",
              "      <th>weight</th>\n",
              "      <th>priority</th>\n",
              "    </tr>\n",
              "  </thead>\n",
              "  <tbody>\n",
              "    <tr>\n",
              "      <th>a</th>\n",
              "      <td>cat</td>\n",
              "      <td>2.5</td>\n",
              "      <td>1</td>\n",
              "      <td>yes</td>\n",
              "    </tr>\n",
              "    <tr>\n",
              "      <th>b</th>\n",
              "      <td>cat</td>\n",
              "      <td>1.0</td>\n",
              "      <td>3</td>\n",
              "      <td>yes</td>\n",
              "    </tr>\n",
              "    <tr>\n",
              "      <th>f</th>\n",
              "      <td>cat</td>\n",
              "      <td>2.0</td>\n",
              "      <td>3</td>\n",
              "      <td>no</td>\n",
              "    </tr>\n",
              "  </tbody>\n",
              "</table>\n",
              "</div>"
            ],
            "text/plain": [
              "  animal  age  weight priority\n",
              "a    cat  2.5       1      yes\n",
              "b    cat  1.0       3      yes\n",
              "f    cat  2.0       3       no"
            ]
          },
          "metadata": {
            "tags": []
          },
          "execution_count": 115
        }
      ]
    },
    {
      "cell_type": "markdown",
      "metadata": {
        "colab_type": "text",
        "id": "K-8_bYeRsdcz"
      },
      "source": [
        "Expected Output: \n",
        "\n",
        "|  index  | animal   |   age |   weight | priority   |\n",
        "|:---|:---------|------:|---------:|:-----------|\n",
        "| a  | cat      |   2.5 |        1 | yes        |\n",
        "| b  | cat      |   1   |        3 | yes        |\n",
        "| f  | cat      |   2   |        3 | no         |"
      ]
    },
    {
      "cell_type": "markdown",
      "metadata": {
        "colab_type": "text",
        "id": "Mtc079yNjPNZ"
      },
      "source": [
        "#### 9.4  Implement function sorted_df(data, labels) which creates a dataframe from dictionary \"data\" with indexes from the list \"labels\" which returns dataframe sorted  firstly by age in a decreasing order, secondly, for the number of weight in ascending order.\n",
        "<div style=\"text-align: right\">1 point</div>"
      ]
    },
    {
      "cell_type": "code",
      "metadata": {
        "colab_type": "code",
        "id": "zaQ4-bqLjPNa",
        "colab": {}
      },
      "source": [
        "def sorted_df(data, labels):\n",
        "    \"\"\"\n",
        "    :param data: dict\n",
        "    :param labels: list[str]\n",
        "    :return: pandas.core.frame.DataFrame \n",
        "    \"\"\"\n",
        "    df = pd.DataFrame(data, index=labels)\n",
        "    return df.sort_values([\"weight\"]).sort_values([\"age\"], ascending=False)"
      ],
      "execution_count": 0,
      "outputs": []
    },
    {
      "cell_type": "code",
      "metadata": {
        "colab_type": "code",
        "id": "frofbFYTsdc2",
        "colab": {
          "base_uri": "https://localhost:8080/",
          "height": 343
        },
        "outputId": "a4f68890-ba39-442b-8859-a2fb6c90ad46"
      },
      "source": [
        "sorted_df(data, labels)"
      ],
      "execution_count": 124,
      "outputs": [
        {
          "output_type": "execute_result",
          "data": {
            "text/html": [
              "<div>\n",
              "<style scoped>\n",
              "    .dataframe tbody tr th:only-of-type {\n",
              "        vertical-align: middle;\n",
              "    }\n",
              "\n",
              "    .dataframe tbody tr th {\n",
              "        vertical-align: top;\n",
              "    }\n",
              "\n",
              "    .dataframe thead th {\n",
              "        text-align: right;\n",
              "    }\n",
              "</style>\n",
              "<table border=\"1\" class=\"dataframe\">\n",
              "  <thead>\n",
              "    <tr style=\"text-align: right;\">\n",
              "      <th></th>\n",
              "      <th>animal</th>\n",
              "      <th>age</th>\n",
              "      <th>weight</th>\n",
              "      <th>priority</th>\n",
              "    </tr>\n",
              "  </thead>\n",
              "  <tbody>\n",
              "    <tr>\n",
              "      <th>i</th>\n",
              "      <td>dog</td>\n",
              "      <td>7.0</td>\n",
              "      <td>7</td>\n",
              "      <td>no</td>\n",
              "    </tr>\n",
              "    <tr>\n",
              "      <th>e</th>\n",
              "      <td>cat</td>\n",
              "      <td>5.0</td>\n",
              "      <td>4</td>\n",
              "      <td>no</td>\n",
              "    </tr>\n",
              "    <tr>\n",
              "      <th>g</th>\n",
              "      <td>dog</td>\n",
              "      <td>3.5</td>\n",
              "      <td>10</td>\n",
              "      <td>no</td>\n",
              "    </tr>\n",
              "    <tr>\n",
              "      <th>j</th>\n",
              "      <td>dog</td>\n",
              "      <td>3.0</td>\n",
              "      <td>3</td>\n",
              "      <td>no</td>\n",
              "    </tr>\n",
              "    <tr>\n",
              "      <th>a</th>\n",
              "      <td>cat</td>\n",
              "      <td>2.5</td>\n",
              "      <td>1</td>\n",
              "      <td>yes</td>\n",
              "    </tr>\n",
              "    <tr>\n",
              "      <th>f</th>\n",
              "      <td>cat</td>\n",
              "      <td>2.0</td>\n",
              "      <td>3</td>\n",
              "      <td>no</td>\n",
              "    </tr>\n",
              "    <tr>\n",
              "      <th>b</th>\n",
              "      <td>cat</td>\n",
              "      <td>1.0</td>\n",
              "      <td>3</td>\n",
              "      <td>yes</td>\n",
              "    </tr>\n",
              "    <tr>\n",
              "      <th>c</th>\n",
              "      <td>dog</td>\n",
              "      <td>0.5</td>\n",
              "      <td>6</td>\n",
              "      <td>no</td>\n",
              "    </tr>\n",
              "    <tr>\n",
              "      <th>h</th>\n",
              "      <td>cat</td>\n",
              "      <td>NaN</td>\n",
              "      <td>2</td>\n",
              "      <td>yes</td>\n",
              "    </tr>\n",
              "    <tr>\n",
              "      <th>d</th>\n",
              "      <td>dog</td>\n",
              "      <td>NaN</td>\n",
              "      <td>8</td>\n",
              "      <td>yes</td>\n",
              "    </tr>\n",
              "  </tbody>\n",
              "</table>\n",
              "</div>"
            ],
            "text/plain": [
              "  animal  age  weight priority\n",
              "i    dog  7.0       7       no\n",
              "e    cat  5.0       4       no\n",
              "g    dog  3.5      10       no\n",
              "j    dog  3.0       3       no\n",
              "a    cat  2.5       1      yes\n",
              "f    cat  2.0       3       no\n",
              "b    cat  1.0       3      yes\n",
              "c    dog  0.5       6       no\n",
              "h    cat  NaN       2      yes\n",
              "d    dog  NaN       8      yes"
            ]
          },
          "metadata": {
            "tags": []
          },
          "execution_count": 124
        }
      ]
    },
    {
      "cell_type": "markdown",
      "metadata": {
        "colab_type": "text",
        "id": "KZwK1kj4sdc3"
      },
      "source": [
        "Expected Output: \n",
        "\n",
        "|  index| animal   |   age |   weight | priority   |\n",
        "|:---|:---------|------:|---------:|:-----------|\n",
        "| i  | dog      |   7   |        7 | no         |\n",
        "| e  | cat      |   5   |        4 | no         |\n",
        "| g  | dog      |   3.5 |       10 | no         |\n",
        "| j  | dog      |   3   |        3 | no         |\n",
        "| a  | cat      |   2.5 |        1 | yes        |\n",
        "| f  | cat      |   2   |        3 | no         |\n",
        "| b  | cat      |   1   |        3 | yes        |\n",
        "| c  | dog      |   0.5 |        6 | no         |\n",
        "| h  | cat      | nan   |        2 | yes        |\n",
        "| d  | dog      | nan   |        8 | yes        |"
      ]
    },
    {
      "cell_type": "markdown",
      "metadata": {
        "id": "MKv_gAZBU2Fp",
        "colab_type": "text"
      },
      "source": [
        "#### 10. Markov Chain\n",
        "<div style=\"text-align: right\">5 points</div>\n",
        "<img src=\"http://157.230.116.154:1338/uploads/e35cccf9167841479bf0c4174b9cb85c.png\">\n",
        "\n",
        "Markov chain transition matrix P, and probability distribution on the states p:\n",
        "\n",
        "1. $0 <= P[i,j] <= 1:$ probability to go from state i to state j\n",
        "2. Transition rule: $p_{new} = P^T p_{old}$\n",
        "3. all(sum(P, axis=1) == 1), p.sum() == 1: normalization\n",
        "\n",
        "#### Implement function that works with 5 states, and:\n",
        "\n",
        "1. Constructs a random matrix, and normalizes each row so that it is a transition matrix.\n",
        "2. Starts from a random (normalized) probability distribution p and takes n_states => p_(n_states)\n",
        "3. Computes the stationary distribution: the eigenvector of P.T with eigenvalue 1 (numerically: closest to 1) => p_stationary\n",
        "\n",
        "(Don't forget to normalize the eigenvector)\n",
        "\n",
        "Checks if p_(n_states) and p_stationary are equal to tolerance"
      ]
    },
    {
      "cell_type": "code",
      "metadata": {
        "id": "R-Ab3ZCZU2Fp",
        "colab_type": "code",
        "colab": {}
      },
      "source": [
        "def markov_chain(n_states, n_steps, tolerance):\n",
        "    \"\"\"\n",
        "    :n_states: int\n",
        "    :n_steps: int\n",
        "    :tolerance: float\n",
        "    :return: np.array, np.array \n",
        "    \"\"\"\n",
        "    \n",
        "    np.random.seed(1234)\n",
        "    \n",
        "    # Random transition matrix and state vector\n",
        "    P = np.random.rand(n_states, n_states)\n",
        "    p = np.random.rand(n_states)\n",
        "    \n",
        "    P /= P.sum(axis=1)[:, np.newaxis]\n",
        "    p /= p.sum()\n",
        "\n",
        "    # Go through the damn steps\n",
        "    for i in range(n_steps):\n",
        "        p = P.T.dot(p)\n",
        "\n",
        "    p_50 = p\n",
        "\n",
        "    # Compute the stationary state\n",
        "    w, v = np.linalg.eig(P.T)\n",
        "\n",
        "    j_stationary = np.argmin(abs(w - 1.0))\n",
        "    p_stationary = v[:,j_stationary].real\n",
        "    p_stationary /= p_stationary.sum()\n",
        "    return p_50, p_stationary"
      ],
      "execution_count": 0,
      "outputs": []
    },
    {
      "cell_type": "code",
      "metadata": {
        "id": "baNL3WuyU2Fr",
        "colab_type": "code",
        "colab": {
          "base_uri": "https://localhost:8080/",
          "height": 87
        },
        "outputId": "c3f2f81a-83ce-4895-8413-dd5aaa11d89d"
      },
      "source": [
        "n_states = 6\n",
        "n_steps = 60\n",
        "tolerance = 1e-5\n",
        "p_stationary, p_last = markov_chain(n_states, n_steps, tolerance)\n",
        "\n",
        "if all(abs(p_last - p_stationary) < tolerance):\n",
        "    print(\"Tolerance satisfied in infty-norm\")\n",
        "\n",
        "if np.linalg.norm(p_last - p_stationary) < tolerance:\n",
        "    print(\"Tolerance satisfied in 2-norm\")\n",
        "    \n",
        "print('p_stationary: ', p_stationary)\n",
        "print('p_last: ', p_last)"
      ],
      "execution_count": 128,
      "outputs": [
        {
          "output_type": "stream",
          "text": [
            "Tolerance satisfied in infty-norm\n",
            "Tolerance satisfied in 2-norm\n",
            "p_stationary:  [0.17642782 0.21675892 0.16375743 0.20031888 0.13175137 0.11098559]\n",
            "p_last:  [0.17642782 0.21675892 0.16375743 0.20031888 0.13175137 0.11098559]\n"
          ],
          "name": "stdout"
        }
      ]
    },
    {
      "cell_type": "markdown",
      "metadata": {
        "id": "_zy0KIC1U2Fs",
        "colab_type": "text"
      },
      "source": [
        "Expected Output: \n",
        "<table>\n",
        "  <tr>\n",
        "    <td>Tolerance satisfied in infty-norm</td>\n",
        "  <tr>\n",
        "    <td>Tolerance satisfied in 2-norm</td>\n",
        "  <tr>\n",
        "    <td>p_stationary:   [0.17642782 0.21675892 0.16375743 0.20031888 0.13175137 0.11098559]</td>\n",
        "  <tr>\n",
        "    <td>p_last:  [0.17642782 0.21675892 0.16375743 0.20031888 0.13175137 0.11098559]</td>\n",
        "    "
      ]
    },
    {
      "cell_type": "code",
      "metadata": {
        "id": "KcjoOAXRU_fz",
        "colab_type": "code",
        "colab": {}
      },
      "source": [
        ""
      ],
      "execution_count": 0,
      "outputs": []
    }
  ]
}
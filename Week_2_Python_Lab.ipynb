{
  "nbformat": 4,
  "nbformat_minor": 0,
  "metadata": {
    "colab": {
      "name": "Python Lab.ipynb",
      "provenance": [],
      "collapsed_sections": []
    },
    "kernelspec": {
      "display_name": "Python 3",
      "language": "python",
      "name": "python3"
    },
    "language_info": {
      "codemirror_mode": {
        "name": "ipython",
        "version": 3
      },
      "file_extension": ".py",
      "mimetype": "text/x-python",
      "name": "python",
      "nbconvert_exporter": "python",
      "pygments_lexer": "ipython3",
      "version": "3.6.8"
    }
  },
  "cells": [
    {
      "cell_type": "markdown",
      "metadata": {
        "colab_type": "text",
        "id": "KOP7kgV5PSl2"
      },
      "source": [
        "# Python and algorithms"
      ]
    },
    {
      "cell_type": "markdown",
      "metadata": {
        "colab_type": "text",
        "id": "0R6uyhNyjPMc"
      },
      "source": [
        "##### Сomplete this part of test without using any libs (your code must not contain keyword 'import')"
      ]
    },
    {
      "cell_type": "markdown",
      "metadata": {
        "colab_type": "text",
        "id": "GC_iufBgjPMd"
      },
      "source": [
        "#### 1. Implement function str_to_dict(some_str) which returnes dictionary, where keys are string characters, and values are their quantity in the string:\n",
        "\n",
        "<div style=\"text-align: right\">1 point</div>"
      ]
    },
    {
      "cell_type": "code",
      "metadata": {
        "colab_type": "code",
        "id": "DDou3xupjPMe",
        "colab": {}
      },
      "source": [
        "def str_to_dict(some_str):\n",
        "    \"\"\"\n",
        "    :param some_str: str\n",
        "    :return: dict\n",
        "    \"\"\"\n",
        "    return dict([(i, some_str.count(i)) for i in set(some_str)])\n"
      ],
      "execution_count": 0,
      "outputs": []
    },
    {
      "cell_type": "code",
      "metadata": {
        "colab_type": "code",
        "id": "FPjc0Ckxsdbl",
        "outputId": "242f5386-aafa-4dc2-d34c-be72f0af923b",
        "colab": {
          "base_uri": "https://localhost:8080/",
          "height": 34
        }
      },
      "source": [
        "print('Str to dict:', str_to_dict('dataroot_university'))"
      ],
      "execution_count": 0,
      "outputs": [
        {
          "output_type": "stream",
          "text": [
            "Str to dict: {'u': 1, 't': 3, 'o': 2, '_': 1, 'i': 2, 's': 1, 'r': 2, 'n': 1, 'y': 1, 'a': 2, 'v': 1, 'd': 1, 'e': 1}\n"
          ],
          "name": "stdout"
        }
      ]
    },
    {
      "cell_type": "markdown",
      "metadata": {
        "colab_type": "text",
        "id": "nurux2Btsdbn"
      },
      "source": [
        "Expected Output: \n",
        "<table>\n",
        "  <tr>\n",
        "    <td>Str to dict:</td>\n",
        "    <td> {'d': 1, 'a': 2, 't': 3, 'r': 2, 'o': 2, '_': 1, 'u': 1, 'n': 1, 'i': 2, 'v': 1, 'e': 1, 's': 1, 'y': 1} </td> \n",
        "  </tr>"
      ]
    },
    {
      "cell_type": "markdown",
      "metadata": {
        "colab_type": "text",
        "id": "ELtxJQQLjPMi"
      },
      "source": [
        "#### 2. Implement function sec_smallest(numbers) which returns second smallest item in the list, without using the built-in sorting methods (your code mustn't contain such words as 'sort', 'sorted'):\n",
        "\n",
        "<div style=\"text-align: right\">1 point\n",
        "  "
      ]
    },
    {
      "cell_type": "code",
      "metadata": {
        "colab_type": "code",
        "id": "yJVJiK9jjPMj",
        "colab": {}
      },
      "source": [
        "def sec_smallest(numbers):\n",
        "    \"\"\"\n",
        "    :param numbers: list[int]\n",
        "    :return: int    \n",
        "    \"\"\"\n",
        "    smallest = min(numbers)\n",
        "    while smallest in numbers:\n",
        "        numbers.remove(smallest)\n",
        "    return min(numbers)\n",
        "    "
      ],
      "execution_count": 0,
      "outputs": []
    },
    {
      "cell_type": "code",
      "metadata": {
        "colab_type": "code",
        "id": "pg4ry_8Csdbq",
        "outputId": "e60ab54c-b1e8-4099-a77c-47f370e58463",
        "colab": {
          "base_uri": "https://localhost:8080/",
          "height": 34
        }
      },
      "source": [
        "print('Sec_smallest:', sec_smallest([1, 2, -8, -8, -2, 0]))"
      ],
      "execution_count": 0,
      "outputs": [
        {
          "output_type": "stream",
          "text": [
            "Sec_smallest: -2\n"
          ],
          "name": "stdout"
        }
      ]
    },
    {
      "cell_type": "markdown",
      "metadata": {
        "colab_type": "text",
        "id": "qVlYH9axsdbs"
      },
      "source": [
        "Expected Output: \n",
        "<table>\n",
        "  <tr>\n",
        "    <td>Sec_smallest:</td>\n",
        "    <td> -2 </td> \n",
        "  </tr>"
      ]
    },
    {
      "cell_type": "markdown",
      "metadata": {
        "colab_type": "text",
        "id": "tzgLZ6VijPMo"
      },
      "source": [
        "#### 3. Implement function prime_nums(n) that returns list of numbers which  are simple and < n:\n",
        "\n",
        "<div style=\"text-align: right\">1 point</div>"
      ]
    },
    {
      "cell_type": "code",
      "metadata": {
        "colab_type": "code",
        "id": "jvVD9N32jPMp",
        "colab": {}
      },
      "source": [
        "def prime_nums(n):\n",
        "    \"\"\"\n",
        "    :param n: int\n",
        "    :return: list[int]\n",
        "    \"\"\"\n",
        "    # YOUR CODE HERE\n",
        "    prime = [True for i in range(n + 1)]\n",
        "    prime[0] = False\n",
        "    prime[1] = False\n",
        "    p = 2\n",
        "    while (p * p <= n):\n",
        "        if (prime[p] == True):  # If prime[p] is not changed, then it is a prime\n",
        "            for i in range(p * 2, n + 1, p):  # Update all multiples of p\n",
        "                prime[i] = False\n",
        "        p += 1\n",
        "    return [i for i in range(len(prime)) if prime[i]]\n",
        "    "
      ],
      "execution_count": 0,
      "outputs": []
    },
    {
      "cell_type": "code",
      "metadata": {
        "colab_type": "code",
        "id": "Zf9DMkN9sdbw",
        "outputId": "e6b3b46f-f93f-404e-bcf4-370cca9104e1",
        "colab": {
          "base_uri": "https://localhost:8080/",
          "height": 34
        }
      },
      "source": [
        "print('Prime numbers:', prime_nums(30))"
      ],
      "execution_count": 0,
      "outputs": [
        {
          "output_type": "stream",
          "text": [
            "Prime numbers: [2, 3, 5, 7, 11, 13, 17, 19, 23, 29]\n"
          ],
          "name": "stdout"
        }
      ]
    },
    {
      "cell_type": "markdown",
      "metadata": {
        "colab_type": "text",
        "id": "pYutFqaAsdbz"
      },
      "source": [
        "Expected Output:\n",
        "<table>\n",
        "  <tr>\n",
        "    <td>Prime numbers:</td>\n",
        "    <td>[2, 3, 5, 7, 11, 13, 17, 19, 23, 29]</td>\n",
        "  </tr>"
      ]
    },
    {
      "cell_type": "markdown",
      "metadata": {
        "id": "Qljd3gWoTG5n",
        "colab_type": "text"
      },
      "source": [
        "**4. Implement function max_sum_index(tuples), which returnes index of tuple in the list with maximum sum of elements:**\n",
        "\n",
        "<div style=\"text-align: right\">1 point</div>"
      ]
    },
    {
      "cell_type": "code",
      "metadata": {
        "id": "LGPROVr1TG5o",
        "colab_type": "code",
        "colab": {}
      },
      "source": [
        "def max_sum_index(tuples):\n",
        "    '''\n",
        "    :param tuples: list[tuple]\n",
        "    :return: int\n",
        "    '''\n",
        "    tuples_sums = list(map(sum, tuples))\n",
        "    return tuples_sums.index(max(tuples_sums))\n"
      ],
      "execution_count": 0,
      "outputs": []
    },
    {
      "cell_type": "code",
      "metadata": {
        "id": "MlZ3AV2tTG5q",
        "colab_type": "code",
        "outputId": "097d0393-cd2f-4a37-90b3-80e307368aea",
        "colab": {
          "base_uri": "https://localhost:8080/",
          "height": 34
        }
      },
      "source": [
        "print('Index:', max_sum_index([(10, 20), (40, 32), (30, 25)]))"
      ],
      "execution_count": 0,
      "outputs": [
        {
          "output_type": "stream",
          "text": [
            "Index: 1\n"
          ],
          "name": "stdout"
        }
      ]
    },
    {
      "cell_type": "markdown",
      "metadata": {
        "id": "2Z5h33GpTG5s",
        "colab_type": "text"
      },
      "source": [
        "Expected Output: \n",
        "<table>\n",
        "  <tr>\n",
        "    <td>Index:</td>\n",
        "    <td> 1 </td> \n",
        "  </tr>"
      ]
    },
    {
      "cell_type": "markdown",
      "metadata": {
        "id": "CpOlwPKNTG5t",
        "colab_type": "text"
      },
      "source": [
        "**5. Implement function gcd(x, y), which returns the greatest common divisor of n and m.**\n",
        "<div style=\"text-align: right\">1 point</div>"
      ]
    },
    {
      "cell_type": "code",
      "metadata": {
        "id": "ZA9gue60TG5t",
        "colab_type": "code",
        "colab": {}
      },
      "source": [
        "def gcd(x, y):\n",
        "    '''\n",
        "    :params m,n: int\n",
        "    :return: int\n",
        "    '''\n",
        "    while (y):\n",
        "        x, y = y, x % y\n",
        "    return x\n"
      ],
      "execution_count": 0,
      "outputs": []
    },
    {
      "cell_type": "code",
      "metadata": {
        "id": "caXQI657TG5w",
        "colab_type": "code",
        "outputId": "4a76ae24-f489-44e2-b6d7-e5bb0738323e",
        "colab": {
          "base_uri": "https://localhost:8080/",
          "height": 34
        }
      },
      "source": [
        "print('GCD:', gcd(160, 180))"
      ],
      "execution_count": 0,
      "outputs": [
        {
          "output_type": "stream",
          "text": [
            "GCD: 20\n"
          ],
          "name": "stdout"
        }
      ]
    },
    {
      "cell_type": "markdown",
      "metadata": {
        "id": "3IedPDbOTG5z",
        "colab_type": "text"
      },
      "source": [
        "Expected Output: \n",
        "<table>\n",
        "  <tr>\n",
        "    <td>GCD:</td>\n",
        "    <td> 20 </td> \n",
        "  </tr>"
      ]
    },
    {
      "cell_type": "markdown",
      "metadata": {
        "id": "a8VWx1nVTG5z",
        "colab_type": "text"
      },
      "source": [
        "#### 6. Implement recursive sum of the list:\n",
        "<div style=\"text-align: right\">1 point</div>"
      ]
    },
    {
      "cell_type": "code",
      "metadata": {
        "id": "VEBV_Vc5TG5z",
        "colab_type": "code",
        "colab": {}
      },
      "source": [
        "def recursive_list_sum(data_list):\n",
        "    \"\"\"\n",
        "    :param data_list: list[list]\n",
        "    \"\"\"\n",
        "    total = 0\n",
        "    for element in data_list:\n",
        "        if type(element) == type([]):\n",
        "            total = total + recursive_list_sum(element)\n",
        "        else:\n",
        "            total = total + element\n",
        "    return total\n"
      ],
      "execution_count": 0,
      "outputs": []
    },
    {
      "cell_type": "code",
      "metadata": {
        "id": "R9qD7DyyTG52",
        "colab_type": "code",
        "outputId": "621c2a07-6a92-4b3a-c6bf-2bd572e216ed",
        "colab": {
          "base_uri": "https://localhost:8080/",
          "height": 34
        }
      },
      "source": [
        "print('The sum of a list is ', recursive_list_sum([1, 2, [3,4],[5,6], [7, 8, 9]]))"
      ],
      "execution_count": 0,
      "outputs": [
        {
          "output_type": "stream",
          "text": [
            "The sum of a list is  45\n"
          ],
          "name": "stdout"
        }
      ]
    },
    {
      "cell_type": "markdown",
      "metadata": {
        "id": "u2jRE01LTG54",
        "colab_type": "text"
      },
      "source": [
        "Expected Output:\n",
        "<table>\n",
        "  <tr>\n",
        "    <td>The sum of a list is 45</td> \n",
        "  </tr>"
      ]
    },
    {
      "cell_type": "markdown",
      "metadata": {
        "id": "GdscHJ5zTG54",
        "colab_type": "text"
      },
      "source": [
        "#### 7. Implement decorator which returns function signature and it's return value:\n",
        "<div style=\"text-align: right\">1 point</div>"
      ]
    },
    {
      "cell_type": "code",
      "metadata": {
        "id": "XUCvNEtoTG55",
        "colab_type": "code",
        "colab": {}
      },
      "source": [
        "\"\"\"\n",
        "def debug(func):\n",
        "    \"\"\"\"\"\"\n",
        "    :param func: function\n",
        "    \"\"\"\"\"\"\n",
        "\n",
        "    def wrapper(*args, **kwargs):\n",
        "        ''' \n",
        "           :param *args, **kwargs\n",
        "        '''\n",
        "        return(func.__name__ + '(' + ', '.join(map(str, args)) + ') was called and returned', func(*args, **kwargs))\n",
        "    return wrapper\n",
        "\"\"\"\n",
        "\n",
        "\n",
        "\n",
        "def debug(func):\n",
        "    \"\"\"Print the function signature and return value\"\"\"\n",
        "    saved_name = func.__name__\n",
        "    def wrapper_debug(*args, **kwargs):\n",
        "        args_repr = [repr(a) for a in args]\n",
        "        kwargs_repr = [f\"{k}={v!r}\" for k, v in kwargs.items()]\n",
        "        signature = \", \".join(args_repr + kwargs_repr)\n",
        "        value = func(*args, **kwargs)\n",
        "        return(f\"{func.__name__}({signature}) was called and returned {value!r}\")\n",
        "        #return value\n",
        "    func.__name__ = saved_name\n",
        "    return wrapper_debug\n"
      ],
      "execution_count": 0,
      "outputs": []
    },
    {
      "cell_type": "code",
      "metadata": {
        "id": "N_Pv9tw0TG57",
        "colab_type": "code",
        "outputId": "78bf6ada-14d8-4eb0-e8cc-97c5ba81cf88",
        "colab": {
          "base_uri": "https://localhost:8080/",
          "height": 34
        }
      },
      "source": [
        "@debug\n",
        "def add(a, b):\n",
        "    return a + b\n",
        "\n",
        "add(3, 4)"
      ],
      "execution_count": 219,
      "outputs": [
        {
          "output_type": "execute_result",
          "data": {
            "text/plain": [
              "'add(3, 4) was called and returned 7'"
            ]
          },
          "metadata": {
            "tags": []
          },
          "execution_count": 219
        }
      ]
    },
    {
      "cell_type": "markdown",
      "metadata": {
        "id": "fqbjCZmTTG59",
        "colab_type": "text"
      },
      "source": [
        "Expected Output:\n",
        "<table>\n",
        "  <tr>\n",
        "    <td>'add(3, 4) was called and returned 7'</td>\n",
        "  </tr>"
      ]
    },
    {
      "cell_type": "markdown",
      "metadata": {
        "colab_type": "text",
        "id": "p96mEq8vjPMr"
      },
      "source": [
        "#### 8. Implement class Conv, that contains method to_roman(self, n), which converts decimal numbers to Roman numerals:\n",
        "\n",
        "<div style=\"text-align: right\">2 points</div>"
      ]
    },
    {
      "cell_type": "code",
      "metadata": {
        "colab_type": "code",
        "id": "weYiaNWojPMs",
        "colab": {}
      },
      "source": [
        "class Conv:\n",
        "    def __init__(self):\n",
        "        self.val = [\n",
        "            1000, 900, 500, 400,\n",
        "            100, 90, 50, 40,\n",
        "            10, 9, 5, 4, 1\n",
        "        ]\n",
        "\n",
        "        self.syb = [\n",
        "            'M', 'CM', 'D', 'CD',\n",
        "            'C', 'XC', 'L', 'XL',\n",
        "            'X', 'IX', 'V', 'IV',\n",
        "            'I'\n",
        "        ]\n",
        "\n",
        "    def to_roman(self, num):\n",
        "        \"\"\"\n",
        "        :param self:\n",
        "        :param n: int\n",
        "        :return: str    \n",
        "        \"\"\"\n",
        "        roman_number = ''\n",
        "        i = 0\n",
        "        while num > 0:\n",
        "            for _ in range(num // self.val[i]):\n",
        "                roman_number += self.syb[i]\n",
        "                num -= self.val[i]\n",
        "            i += 1\n",
        "        return roman_number\n"
      ],
      "execution_count": 0,
      "outputs": []
    },
    {
      "cell_type": "code",
      "metadata": {
        "colab_type": "code",
        "id": "NdffBhZesdb6",
        "outputId": "700f728b-7b3c-4aa5-fc6b-2cab69b0bc5e",
        "colab": {
          "base_uri": "https://localhost:8080/",
          "height": 34
        }
      },
      "source": [
        "print('Converted:', Conv().to_roman(44))"
      ],
      "execution_count": 0,
      "outputs": [
        {
          "output_type": "stream",
          "text": [
            "Converted: XLIV\n"
          ],
          "name": "stdout"
        }
      ]
    },
    {
      "cell_type": "markdown",
      "metadata": {
        "colab_type": "text",
        "id": "lF6Acd9gsdb8"
      },
      "source": [
        "Expected Output:\n",
        "<table>\n",
        "  <tr>\n",
        "    <td>Converted:</td>\n",
        "    <td>XLIV</td> \n",
        "  </tr>"
      ]
    },
    {
      "cell_type": "markdown",
      "metadata": {
        "colab_type": "text",
        "id": "kphmMZ7JjPMv"
      },
      "source": [
        "#### 9. Implement class CombinationsList, that contains method get_combinations(self, my_list), which returns all combinations of elements of given list, including empty element and in order, law of which can be discrovered from the expected output:\n",
        "<div style=\"text-align: right\">3 points</div>"
      ]
    },
    {
      "cell_type": "code",
      "metadata": {
        "id": "2kRb10nEOfVR",
        "colab_type": "code",
        "colab": {}
      },
      "source": [
        "class CombinationsList:\n",
        "    @staticmethod\n",
        "    def get_combinations(my_list):\n",
        "        \"\"\"\n",
        "        :param self:\n",
        "        :param my_list: list\n",
        "        :return: list[list]\n",
        "        \"\"\"\n",
        "        #return list(list(compress(my_list,mask)) for mask in product(*[[0,1]]*len(my_list)))\n",
        "        def combinations(lst, depth, start=0, items=[]):\n",
        "            if depth <= 0:\n",
        "                return [items]\n",
        "            out = []\n",
        "            for i in range(start, len(lst)):\n",
        "                out += combinations(lst, depth - 1, i + 1, items + [lst[i]])\n",
        "            return out\n",
        "        return [c for i in range(len(my_list)+1) for c in combinations(my_list,i)]\n",
        "\n",
        "\"\"\"\n",
        "        def combination_helper(alist, n):\n",
        "            if n == 0:\n",
        "                yield []\n",
        "            for i in range(len(alist)):\n",
        "                for element in combination_helper(alist[:i], n-1):\n",
        "                    yield element + [alist[i]]\n",
        "        result = []\n",
        "        for i in range(len(my_list)+1):\n",
        "            result.extend(list(combination_helper(my_list,i)))\n",
        "        return result\n",
        "\"\"\""
      ],
      "execution_count": 0,
      "outputs": []
    },
    {
      "cell_type": "code",
      "metadata": {
        "colab_type": "code",
        "id": "8IVUwFllsdb_",
        "outputId": "fdbad34c-bec4-4a98-ed4c-8b60d7a4f62d",
        "colab": {
          "base_uri": "https://localhost:8080/",
          "height": 34
        }
      },
      "source": [
        "print('Combinations:', CombinationsList().get_combinations([1, 2, 'a']))"
      ],
      "execution_count": 212,
      "outputs": [
        {
          "output_type": "stream",
          "text": [
            "Combinations: [[], [1], [2], ['a'], [1, 2], [1, 'a'], [2, 'a'], [1, 2, 'a']]\n"
          ],
          "name": "stdout"
        }
      ]
    },
    {
      "cell_type": "markdown",
      "metadata": {
        "colab_type": "text",
        "id": "Etp9QRL-sdcC"
      },
      "source": [
        "Expected Output:\n",
        "<table>\n",
        "  <tr>\n",
        "    <td>Combinations:</td>\n",
        "    <td>[[], [1], [2], ['a'], [1, 2], [1, 'a'], [2, 'a'], [1, 2, 'a']]</td> \n",
        "  </tr>"
      ]
    },
    {
      "cell_type": "markdown",
      "metadata": {
        "id": "PMfJBIIGTG6N",
        "colab_type": "text"
      },
      "source": [
        "#### 10. Create base class <code>Rocket</code> and it's subclass <code>Shuttle</code>. The parent class contains methods <code>getMission()</code>, <code>addMission()</code> and <code>getName()</code>. The subclass <code>Shuttle</code> contains method <code>getDescription()</code>. Notice that we have not defined <code>getName()</code>, <code>getMission()</code>, <code>addMission()</code> in the <code>Shuttle</code> class but we are still able to access them, because the class <code>Shuttle</code> inherits them from the <code>Rocket</code> class. Use <code>super()</code> method to have ability to call those methods of the base class.\n",
        "<div style=\"text-align: right\">3 points</div>"
      ]
    },
    {
      "cell_type": "code",
      "metadata": {
        "id": "ZszOPLwhTG6O",
        "colab_type": "code",
        "colab": {}
      },
      "source": [
        "class Rocket:\n",
        "\n",
        "    def __init__(self, name, mission):\n",
        "        \"\"\"\n",
        "        :param name: str\n",
        "        :param mission: str or list\n",
        "        \"\"\"\n",
        "        # attributes are private to class Rocket\n",
        "        self.__name = name      \n",
        "        self.__mission = mission\n",
        "\n",
        "    def getMission(self): \n",
        "        \"\"\"\n",
        "        : return str or list\n",
        "        \"\"\"\n",
        "        return self.__mission\n",
        "\n",
        "    def addMission(self, mission): \n",
        "        # procedure method which adds a new mission. There can be one (str) or multiple (list) existing missions\n",
        "        \"\"\"\n",
        "        : param mission: str\n",
        "        \"\"\"\n",
        "        if type(self.__mission) == str:\n",
        "            self.__mission = [self.__mission]+[mission]\n",
        "        else:\n",
        "            self.__mission.append(mission)\n",
        "\n",
        "    def getName(self):\n",
        "        \"\"\"\n",
        "        : return str\n",
        "        \"\"\"\n",
        "        return self.__name\n",
        "\n",
        "    \n",
        "class Shuttle(Rocket):\n",
        "\n",
        "    def __init__(self, name, mission, model):\n",
        "        # call parent constructor to set name and mission  \n",
        "        \"\"\"\n",
        "        :param name: str\n",
        "        :param mission: str or list\n",
        "        : param model: str\n",
        "        \"\"\"\n",
        "        super().__init__(name, mission)\n",
        "        self.__model = model\n",
        "\n",
        "    def getDescription(self):\n",
        "        return 'Name: {0}\\nModel: {1}\\nMissions: {2}'.format(self.getName(), self.__model, str(self.getMission()))"
      ],
      "execution_count": 0,
      "outputs": []
    },
    {
      "cell_type": "code",
      "metadata": {
        "id": "Twxz_GMqTG6R",
        "colab_type": "code",
        "outputId": "3eaba57d-f66e-4421-987e-cee7fb594ee0",
        "colab": {
          "base_uri": "https://localhost:8080/",
          "height": 140
        }
      },
      "source": [
        "dragon = Shuttle(\"Crew Dragon\", \"Dragon 2 pad abort test\", \"V2\")\n",
        "print(dragon.getDescription(), '\\n')\n",
        "dragon.addMission('Dragon 2 in-flight abort test')\n",
        "print(dragon.getDescription())"
      ],
      "execution_count": 0,
      "outputs": [
        {
          "output_type": "stream",
          "text": [
            "Name: Crew Dragon\n",
            "Model: V2\n",
            "Missions: Dragon 2 pad abort test \n",
            "\n",
            "Name: Crew Dragon\n",
            "Model: V2\n",
            "Missions: ['Dragon 2 pad abort test', 'Dragon 2 in-flight abort test']\n"
          ],
          "name": "stdout"
        }
      ]
    },
    {
      "cell_type": "markdown",
      "metadata": {
        "id": "1o3nxUypTG6U",
        "colab_type": "text"
      },
      "source": [
        "Expected Output: \n",
        "\n",
        "                Name: Crew Dragon\n",
        "                Model: V2\n",
        "                Missions: Dragon 2 pad abort test\n",
        "                \n",
        "                Name: Crew Dragon\n",
        "                Model: V2\n",
        "                Missions: ['Dragon 2 pad abort test', 'Dragon 2 in-flight abort test']\n",
        "\n"
      ]
    }
  ]
}